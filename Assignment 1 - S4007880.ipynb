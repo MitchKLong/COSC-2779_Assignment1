{
 "cells": [
  {
   "cell_type": "markdown",
   "id": "bc67ea39",
   "metadata": {},
   "source": [
    "### **Assignment 1: Introduction to Deep Convolutional Neural Networks**"
   ]
  }
 ],
 "metadata": {
  "kernelspec": {
   "display_name": "conda_tensorflow2_p310",
   "language": "python",
   "name": "conda_tensorflow2_p310"
  },
  "language_info": {
   "codemirror_mode": {
    "name": "ipython",
    "version": 3
   },
   "file_extension": ".py",
   "mimetype": "text/x-python",
   "name": "python",
   "nbconvert_exporter": "python",
   "pygments_lexer": "ipython3",
   "version": "3.10.18"
  }
 },
 "nbformat": 4,
 "nbformat_minor": 5
}
