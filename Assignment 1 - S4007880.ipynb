{
 "cells": [
  {
   "cell_type": "markdown",
   "id": "bc67ea39",
   "metadata": {},
   "source": [
    "### **Assignment 1: Introduction to Deep Convolutional Neural Networks**"
   ]
  },
  {
   "cell_type": "markdown",
   "id": "b71891f2",
   "metadata": {},
   "source": [
    "For this project, a Deep Convolutional Neural Network (CNN) will need to be developed so that it is possible to classify different characteristics of white blood cell images to aid in the dagnosing of various hematological disease"
   ]
  },
  {
   "cell_type": "code",
   "execution_count": null,
   "id": "9361fba1",
   "metadata": {},
   "outputs": [
    {
     "name": "stdout",
     "output_type": "stream",
     "text": [
      "(5000, 5)\n",
      "     imageID       label cell_shape         nucleus_shape cytoplasm_vacuole\n",
      "0  Img_00001  Lymphocyte      round     unsegmented-round                no\n",
      "1  Img_00002    Monocyte  irregular  unsegmented-indented                no\n",
      "2  Img_00003    Monocyte  irregular             irregular               yes\n",
      "3  Img_00004    Basophil      round  segmented-multilobed                no\n",
      "4  Img_00005  Neutrophil      round      unsegmented-band                no\n",
      "['round' 'irregular']\n",
      "['no' 'yes']\n",
      "['Lymphocyte' 'Monocyte' 'Basophil' 'Neutrophil' 'Eosinophil']\n",
      "['unsegmented-round' 'unsegmented-indented' 'irregular'\n",
      " 'segmented-multilobed' 'unsegmented-band' 'segmented-bilobed']\n"
     ]
    }
   ],
   "source": [
    "import numpy as np\n",
    "import pandas as pd\n",
    "## import tensorflow as tf\n",
    "\n",
    "data = pd.read_csv('dev_data_2025.csv')\n",
    "\n",
    "print(data.shape)\n",
    "print(data.head())\n",
    "print(data['cell_shape'].unique())\n",
    "print(data['cytoplasm_vacuole'].unique())\n",
    "print(data['label'].unique())\n",
    "print(data['nucleus_shape'].unique())"
   ]
  }
 ],
 "metadata": {
  "kernelspec": {
   "display_name": "Python 3",
   "language": "python",
   "name": "python3"
  },
  "language_info": {
   "codemirror_mode": {
    "name": "ipython",
    "version": 3
   },
   "file_extension": ".py",
   "mimetype": "text/x-python",
   "name": "python",
   "nbconvert_exporter": "python",
   "pygments_lexer": "ipython3",
   "version": "3.13.3"
  }
 },
 "nbformat": 4,
 "nbformat_minor": 5
}
