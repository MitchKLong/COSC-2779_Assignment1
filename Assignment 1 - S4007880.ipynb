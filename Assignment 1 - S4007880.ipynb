{
 "cells": [
  {
   "cell_type": "markdown",
   "id": "bc67ea39",
   "metadata": {},
   "source": [
    "### **Assignment 1: Introduction to Deep Convolutional Neural Networks**"
   ]
  },
  {
   "cell_type": "markdown",
   "id": "b71891f2",
   "metadata": {},
   "source": [
    "For this project, a Deep Convolutional Neural Network (CNN) will need to be developed so that it is possible to classify different characteristics of white blood cell images to aid in the dagnosing of various hematological disease"
   ]
  },
  {
   "cell_type": "code",
   "execution_count": 1,
   "id": "9361fba1",
   "metadata": {},
   "outputs": [],
   "source": [
    "import numpy as np\n",
    "import pandas as pd\n",
    "## import tensorflow as tf\n",
    "\n",
    "data = pd.read_csv('dev_data_2025.csv')\n",
    "test_data = pd.read_csv('future_data_2025.csv')"
   ]
  },
  {
   "cell_type": "code",
   "execution_count": 2,
   "id": "dbb58f57",
   "metadata": {},
   "outputs": [
    {
     "name": "stdout",
     "output_type": "stream",
     "text": [
      "(5000, 5)\n",
      "\n",
      "     imageID       label cell_shape         nucleus_shape cytoplasm_vacuole\n",
      "0  Img_00001  Lymphocyte      round     unsegmented-round                no\n",
      "1  Img_00002    Monocyte  irregular  unsegmented-indented                no\n",
      "2  Img_00003    Monocyte  irregular             irregular               yes\n",
      "3  Img_00004    Basophil      round  segmented-multilobed                no\n",
      "4  Img_00005  Neutrophil      round      unsegmented-band                no\n",
      "\n",
      "['round' 'irregular']\n",
      "\n",
      "['no' 'yes']\n",
      "\n",
      "['Lymphocyte' 'Monocyte' 'Basophil' 'Neutrophil' 'Eosinophil']\n",
      "\n",
      "['unsegmented-round' 'unsegmented-indented' 'irregular'\n",
      " 'segmented-multilobed' 'unsegmented-band' 'segmented-bilobed']\n"
     ]
    }
   ],
   "source": [
    "print(data.shape)\n",
    "print()\n",
    "print(data.head())\n",
    "print()\n",
    "print(data['cell_shape'].unique())\n",
    "print()\n",
    "print(data['cytoplasm_vacuole'].unique())\n",
    "print()\n",
    "print(data['label'].unique())\n",
    "print()\n",
    "print(data['nucleus_shape'].unique())"
   ]
  },
  {
   "cell_type": "code",
   "execution_count": 4,
   "id": "26d463a6",
   "metadata": {},
   "outputs": [
    {
     "name": "stdout",
     "output_type": "stream",
     "text": [
      "(5298, 1)\n",
      "\n",
      "     imageID\n",
      "0  Img_05001\n",
      "1  Img_05002\n",
      "2  Img_05003\n",
      "3  Img_05004\n",
      "4  Img_05005\n"
     ]
    }
   ],
   "source": [
    "print(test_data.shape)\n",
    "print()\n",
    "print(test_data.head())"
   ]
  }
 ],
 "metadata": {
  "kernelspec": {
   "display_name": "Python 3",
   "language": "python",
   "name": "python3"
  },
  "language_info": {
   "codemirror_mode": {
    "name": "ipython",
    "version": 3
   },
   "file_extension": ".py",
   "mimetype": "text/x-python",
   "name": "python",
   "nbconvert_exporter": "python",
   "pygments_lexer": "ipython3",
   "version": "3.10.12"
  }
 },
 "nbformat": 4,
 "nbformat_minor": 5
}
